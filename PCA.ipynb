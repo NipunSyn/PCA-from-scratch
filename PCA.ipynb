{
 "metadata": {
  "language_info": {
   "codemirror_mode": {
    "name": "ipython",
    "version": 3
   },
   "file_extension": ".py",
   "mimetype": "text/x-python",
   "name": "python",
   "nbconvert_exporter": "python",
   "pygments_lexer": "ipython3",
   "version": "3.8.5-final"
  },
  "orig_nbformat": 2,
  "kernelspec": {
   "name": "python3",
   "display_name": "Python 3",
   "language": "python"
  }
 },
 "nbformat": 4,
 "nbformat_minor": 2,
 "cells": [
  {
   "cell_type": "code",
   "execution_count": 5,
   "metadata": {},
   "outputs": [],
   "source": [
    "import numpy as np\n",
    "import pandas as pd"
   ]
  },
  {
   "cell_type": "code",
   "execution_count": 13,
   "metadata": {},
   "outputs": [],
   "source": [
    "class PCA_scratch:\n",
    "    def __init__ (self, n_components):\n",
    "        self.n_components = n_components\n",
    "        self.components = None\n",
    "        self.mean = None\n",
    "\n",
    "    def fit(self, X):\n",
    "        # calculating the mean\n",
    "        self.mean = np.mean(X, axis= 0)\n",
    "        X = X - self.mean\n",
    "        \n",
    "        # covariance matrix\n",
    "        covariance_matrix = np.cov(X.T)\n",
    "\n",
    "        # eigenvalues, eigenvectors\n",
    "        eigenvalues, eigenvectors = np.linalg.eig(covariance_matrix.T)\n",
    "\n",
    "        # sorting\n",
    "        eigenvectors = eigenvectors.T\n",
    "        indices = np.argsort(eigenvalues)[:: -1]\n",
    "        eigenvectors = eigenvectors[indices]\n",
    "\n",
    "        # store first n eigenvectors\n",
    "        self.components = eigenvectors[0:self.n_components]\n",
    "\n",
    "    def transform(self, X):\n",
    "        X = X - self.mean\n",
    "        return X @ self.components.T\n"
   ]
  },
  {
   "cell_type": "code",
   "execution_count": 3,
   "metadata": {},
   "outputs": [],
   "source": [
    "from scipy.io import loadmat"
   ]
  },
  {
   "cell_type": "code",
   "execution_count": 6,
   "metadata": {},
   "outputs": [],
   "source": [
    "data5 = loadmat('data5.mat')\n",
    "data = pd.DataFrame(data5['x']) \n",
    "data = data.sample(frac= 1, random_state= 3)"
   ]
  },
  {
   "cell_type": "code",
   "execution_count": 7,
   "metadata": {},
   "outputs": [],
   "source": [
    "X = data.iloc[:, :72]\n",
    "y = data.iloc[:, 72]"
   ]
  },
  {
   "cell_type": "code",
   "execution_count": 14,
   "metadata": {},
   "outputs": [],
   "source": [
    "pca = PCA_scratch(2)\n",
    "pca.fit(X)"
   ]
  },
  {
   "cell_type": "code",
   "execution_count": 15,
   "metadata": {},
   "outputs": [],
   "source": [
    "Xnew = pca.transform(X)"
   ]
  },
  {
   "cell_type": "code",
   "execution_count": 16,
   "metadata": {},
   "outputs": [
    {
     "output_type": "execute_result",
     "data": {
      "text/plain": [
       "                  0              1\n",
       "1745  -75294.782759  129976.768658\n",
       "373    -3331.347560   62303.325181\n",
       "356  -226922.243899  129189.413676\n",
       "293  -215311.630611   88465.667002\n",
       "915   -47212.264881  -15160.772168"
      ],
      "text/html": "<div>\n<style scoped>\n    .dataframe tbody tr th:only-of-type {\n        vertical-align: middle;\n    }\n\n    .dataframe tbody tr th {\n        vertical-align: top;\n    }\n\n    .dataframe thead th {\n        text-align: right;\n    }\n</style>\n<table border=\"1\" class=\"dataframe\">\n  <thead>\n    <tr style=\"text-align: right;\">\n      <th></th>\n      <th>0</th>\n      <th>1</th>\n    </tr>\n  </thead>\n  <tbody>\n    <tr>\n      <th>1745</th>\n      <td>-75294.782759</td>\n      <td>129976.768658</td>\n    </tr>\n    <tr>\n      <th>373</th>\n      <td>-3331.347560</td>\n      <td>62303.325181</td>\n    </tr>\n    <tr>\n      <th>356</th>\n      <td>-226922.243899</td>\n      <td>129189.413676</td>\n    </tr>\n    <tr>\n      <th>293</th>\n      <td>-215311.630611</td>\n      <td>88465.667002</td>\n    </tr>\n    <tr>\n      <th>915</th>\n      <td>-47212.264881</td>\n      <td>-15160.772168</td>\n    </tr>\n  </tbody>\n</table>\n</div>"
     },
     "metadata": {},
     "execution_count": 16
    }
   ],
   "source": [
    "Xnew.head()"
   ]
  },
  {
   "cell_type": "code",
   "execution_count": null,
   "metadata": {},
   "outputs": [],
   "source": []
  }
 ]
}